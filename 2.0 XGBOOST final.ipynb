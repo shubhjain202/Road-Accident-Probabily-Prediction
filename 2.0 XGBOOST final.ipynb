{
 "cells": [
  {
   "cell_type": "code",
   "execution_count": 59,
   "id": "ddbb1f2a",
   "metadata": {},
   "outputs": [],
   "source": [
    "%matplotlib inline\n",
    "import numpy as np\n",
    "import pandas as pd\n",
    "import matplotlib.pyplot as plt\n",
    "import seaborn as sns\n",
    "import time\n",
    "import gc\n",
    "from sklearn import metrics "
   ]
  },
  {
   "cell_type": "code",
   "execution_count": 60,
   "id": "ed42d663",
   "metadata": {},
   "outputs": [],
   "source": [
    "accidents_info_all = pd.read_excel(r'US_Accidents_Dec21_1 - probab.xlsx')"
   ]
  },
  {
   "cell_type": "code",
   "execution_count": 61,
   "id": "2d104afc",
   "metadata": {},
   "outputs": [
    {
     "data": {
      "text/html": [
       "<div>\n",
       "<style scoped>\n",
       "    .dataframe tbody tr th:only-of-type {\n",
       "        vertical-align: middle;\n",
       "    }\n",
       "\n",
       "    .dataframe tbody tr th {\n",
       "        vertical-align: top;\n",
       "    }\n",
       "\n",
       "    .dataframe thead th {\n",
       "        text-align: right;\n",
       "    }\n",
       "</style>\n",
       "<table border=\"1\" class=\"dataframe\">\n",
       "  <thead>\n",
       "    <tr style=\"text-align: right;\">\n",
       "      <th></th>\n",
       "      <th>Probability</th>\n",
       "      <th>Start_Time</th>\n",
       "      <th>End_Time</th>\n",
       "      <th>Distance(mi)</th>\n",
       "      <th>Temperature(F)</th>\n",
       "      <th>Wind_Chill(F)</th>\n",
       "      <th>Humidity(%)</th>\n",
       "      <th>Pressure(in)</th>\n",
       "      <th>Visibility(mi)</th>\n",
       "      <th>Wind_Speed(mph)</th>\n",
       "      <th>Precipitation(in)</th>\n",
       "      <th>Bump</th>\n",
       "      <th>Crossing</th>\n",
       "      <th>Roundabout</th>\n",
       "      <th>Stop</th>\n",
       "      <th>Traffic_Signal</th>\n",
       "    </tr>\n",
       "  </thead>\n",
       "  <tbody>\n",
       "    <tr>\n",
       "      <th>0</th>\n",
       "      <td>0.68</td>\n",
       "      <td>2017-07-01 14:25:00</td>\n",
       "      <td>2017-07-01 20:25:00</td>\n",
       "      <td>0.691</td>\n",
       "      <td>66.9</td>\n",
       "      <td>NaN</td>\n",
       "      <td>54.0</td>\n",
       "      <td>29.93</td>\n",
       "      <td>10.0</td>\n",
       "      <td>16.1</td>\n",
       "      <td>NaN</td>\n",
       "      <td>False</td>\n",
       "      <td>False</td>\n",
       "      <td>False</td>\n",
       "      <td>False</td>\n",
       "      <td>False</td>\n",
       "    </tr>\n",
       "    <tr>\n",
       "      <th>1</th>\n",
       "      <td>0.26</td>\n",
       "      <td>2017-07-01 14:32:00</td>\n",
       "      <td>2017-07-01 20:32:00</td>\n",
       "      <td>2.371</td>\n",
       "      <td>68.0</td>\n",
       "      <td>NaN</td>\n",
       "      <td>59.0</td>\n",
       "      <td>30.10</td>\n",
       "      <td>10.0</td>\n",
       "      <td>6.9</td>\n",
       "      <td>NaN</td>\n",
       "      <td>False</td>\n",
       "      <td>False</td>\n",
       "      <td>False</td>\n",
       "      <td>False</td>\n",
       "      <td>False</td>\n",
       "    </tr>\n",
       "    <tr>\n",
       "      <th>2</th>\n",
       "      <td>0.59</td>\n",
       "      <td>2017-07-01 14:31:00</td>\n",
       "      <td>2017-07-01 20:31:00</td>\n",
       "      <td>0.789</td>\n",
       "      <td>70.5</td>\n",
       "      <td>NaN</td>\n",
       "      <td>70.0</td>\n",
       "      <td>29.88</td>\n",
       "      <td>10.0</td>\n",
       "      <td>8.1</td>\n",
       "      <td>NaN</td>\n",
       "      <td>False</td>\n",
       "      <td>False</td>\n",
       "      <td>False</td>\n",
       "      <td>False</td>\n",
       "      <td>False</td>\n",
       "    </tr>\n",
       "    <tr>\n",
       "      <th>3</th>\n",
       "      <td>0.52</td>\n",
       "      <td>2017-07-01 14:42:00</td>\n",
       "      <td>2017-07-01 20:42:00</td>\n",
       "      <td>4.005</td>\n",
       "      <td>86.0</td>\n",
       "      <td>NaN</td>\n",
       "      <td>27.0</td>\n",
       "      <td>29.94</td>\n",
       "      <td>10.0</td>\n",
       "      <td>4.6</td>\n",
       "      <td>NaN</td>\n",
       "      <td>False</td>\n",
       "      <td>False</td>\n",
       "      <td>False</td>\n",
       "      <td>False</td>\n",
       "      <td>False</td>\n",
       "    </tr>\n",
       "    <tr>\n",
       "      <th>4</th>\n",
       "      <td>0.58</td>\n",
       "      <td>2017-07-01 14:42:00</td>\n",
       "      <td>2017-07-01 20:42:00</td>\n",
       "      <td>4.136</td>\n",
       "      <td>86.0</td>\n",
       "      <td>NaN</td>\n",
       "      <td>27.0</td>\n",
       "      <td>29.94</td>\n",
       "      <td>10.0</td>\n",
       "      <td>4.6</td>\n",
       "      <td>NaN</td>\n",
       "      <td>False</td>\n",
       "      <td>False</td>\n",
       "      <td>False</td>\n",
       "      <td>False</td>\n",
       "      <td>False</td>\n",
       "    </tr>\n",
       "    <tr>\n",
       "      <th>...</th>\n",
       "      <td>...</td>\n",
       "      <td>...</td>\n",
       "      <td>...</td>\n",
       "      <td>...</td>\n",
       "      <td>...</td>\n",
       "      <td>...</td>\n",
       "      <td>...</td>\n",
       "      <td>...</td>\n",
       "      <td>...</td>\n",
       "      <td>...</td>\n",
       "      <td>...</td>\n",
       "      <td>...</td>\n",
       "      <td>...</td>\n",
       "      <td>...</td>\n",
       "      <td>...</td>\n",
       "      <td>...</td>\n",
       "    </tr>\n",
       "    <tr>\n",
       "      <th>4481</th>\n",
       "      <td>0.40</td>\n",
       "      <td>2021-07-18 12:58:00</td>\n",
       "      <td>2021-07-18 14:39:00</td>\n",
       "      <td>3.003</td>\n",
       "      <td>90.0</td>\n",
       "      <td>90.0</td>\n",
       "      <td>57.0</td>\n",
       "      <td>29.93</td>\n",
       "      <td>10.0</td>\n",
       "      <td>0.0</td>\n",
       "      <td>0.00</td>\n",
       "      <td>False</td>\n",
       "      <td>False</td>\n",
       "      <td>False</td>\n",
       "      <td>False</td>\n",
       "      <td>False</td>\n",
       "    </tr>\n",
       "    <tr>\n",
       "      <th>4482</th>\n",
       "      <td>0.43</td>\n",
       "      <td>2021-09-02 08:12:00</td>\n",
       "      <td>2021-09-02 09:25:00</td>\n",
       "      <td>0.259</td>\n",
       "      <td>68.0</td>\n",
       "      <td>68.0</td>\n",
       "      <td>100.0</td>\n",
       "      <td>28.91</td>\n",
       "      <td>10.0</td>\n",
       "      <td>0.0</td>\n",
       "      <td>0.00</td>\n",
       "      <td>False</td>\n",
       "      <td>False</td>\n",
       "      <td>False</td>\n",
       "      <td>False</td>\n",
       "      <td>False</td>\n",
       "    </tr>\n",
       "    <tr>\n",
       "      <th>4483</th>\n",
       "      <td>0.36</td>\n",
       "      <td>2021-08-13 14:00:00</td>\n",
       "      <td>2021-08-13 17:01:00</td>\n",
       "      <td>0.285</td>\n",
       "      <td>96.0</td>\n",
       "      <td>96.0</td>\n",
       "      <td>40.0</td>\n",
       "      <td>29.39</td>\n",
       "      <td>10.0</td>\n",
       "      <td>0.0</td>\n",
       "      <td>0.00</td>\n",
       "      <td>False</td>\n",
       "      <td>False</td>\n",
       "      <td>False</td>\n",
       "      <td>False</td>\n",
       "      <td>False</td>\n",
       "    </tr>\n",
       "    <tr>\n",
       "      <th>4484</th>\n",
       "      <td>0.34</td>\n",
       "      <td>2021-08-01 23:57:00</td>\n",
       "      <td>2021-08-02 01:16:00</td>\n",
       "      <td>0.219</td>\n",
       "      <td>80.0</td>\n",
       "      <td>80.0</td>\n",
       "      <td>87.0</td>\n",
       "      <td>30.09</td>\n",
       "      <td>10.0</td>\n",
       "      <td>3.0</td>\n",
       "      <td>0.08</td>\n",
       "      <td>False</td>\n",
       "      <td>False</td>\n",
       "      <td>False</td>\n",
       "      <td>False</td>\n",
       "      <td>False</td>\n",
       "    </tr>\n",
       "    <tr>\n",
       "      <th>4485</th>\n",
       "      <td>0.32</td>\n",
       "      <td>2021-11-27 21:03:00</td>\n",
       "      <td>2021-11-27 22:23:00</td>\n",
       "      <td>0.097</td>\n",
       "      <td>59.0</td>\n",
       "      <td>59.0</td>\n",
       "      <td>75.0</td>\n",
       "      <td>30.06</td>\n",
       "      <td>10.0</td>\n",
       "      <td>0.0</td>\n",
       "      <td>0.00</td>\n",
       "      <td>False</td>\n",
       "      <td>False</td>\n",
       "      <td>False</td>\n",
       "      <td>False</td>\n",
       "      <td>True</td>\n",
       "    </tr>\n",
       "  </tbody>\n",
       "</table>\n",
       "<p>4486 rows × 16 columns</p>\n",
       "</div>"
      ],
      "text/plain": [
       "      Probability          Start_Time            End_Time  Distance(mi)  \\\n",
       "0            0.68 2017-07-01 14:25:00 2017-07-01 20:25:00         0.691   \n",
       "1            0.26 2017-07-01 14:32:00 2017-07-01 20:32:00         2.371   \n",
       "2            0.59 2017-07-01 14:31:00 2017-07-01 20:31:00         0.789   \n",
       "3            0.52 2017-07-01 14:42:00 2017-07-01 20:42:00         4.005   \n",
       "4            0.58 2017-07-01 14:42:00 2017-07-01 20:42:00         4.136   \n",
       "...           ...                 ...                 ...           ...   \n",
       "4481         0.40 2021-07-18 12:58:00 2021-07-18 14:39:00         3.003   \n",
       "4482         0.43 2021-09-02 08:12:00 2021-09-02 09:25:00         0.259   \n",
       "4483         0.36 2021-08-13 14:00:00 2021-08-13 17:01:00         0.285   \n",
       "4484         0.34 2021-08-01 23:57:00 2021-08-02 01:16:00         0.219   \n",
       "4485         0.32 2021-11-27 21:03:00 2021-11-27 22:23:00         0.097   \n",
       "\n",
       "      Temperature(F)  Wind_Chill(F)  Humidity(%)  Pressure(in)  \\\n",
       "0               66.9            NaN         54.0         29.93   \n",
       "1               68.0            NaN         59.0         30.10   \n",
       "2               70.5            NaN         70.0         29.88   \n",
       "3               86.0            NaN         27.0         29.94   \n",
       "4               86.0            NaN         27.0         29.94   \n",
       "...              ...            ...          ...           ...   \n",
       "4481            90.0           90.0         57.0         29.93   \n",
       "4482            68.0           68.0        100.0         28.91   \n",
       "4483            96.0           96.0         40.0         29.39   \n",
       "4484            80.0           80.0         87.0         30.09   \n",
       "4485            59.0           59.0         75.0         30.06   \n",
       "\n",
       "      Visibility(mi)  Wind_Speed(mph)  Precipitation(in)   Bump  Crossing  \\\n",
       "0               10.0             16.1                NaN  False     False   \n",
       "1               10.0              6.9                NaN  False     False   \n",
       "2               10.0              8.1                NaN  False     False   \n",
       "3               10.0              4.6                NaN  False     False   \n",
       "4               10.0              4.6                NaN  False     False   \n",
       "...              ...              ...                ...    ...       ...   \n",
       "4481            10.0              0.0               0.00  False     False   \n",
       "4482            10.0              0.0               0.00  False     False   \n",
       "4483            10.0              0.0               0.00  False     False   \n",
       "4484            10.0              3.0               0.08  False     False   \n",
       "4485            10.0              0.0               0.00  False     False   \n",
       "\n",
       "      Roundabout   Stop  Traffic_Signal  \n",
       "0          False  False           False  \n",
       "1          False  False           False  \n",
       "2          False  False           False  \n",
       "3          False  False           False  \n",
       "4          False  False           False  \n",
       "...          ...    ...             ...  \n",
       "4481       False  False           False  \n",
       "4482       False  False           False  \n",
       "4483       False  False           False  \n",
       "4484       False  False           False  \n",
       "4485       False  False            True  \n",
       "\n",
       "[4486 rows x 16 columns]"
      ]
     },
     "execution_count": 61,
     "metadata": {},
     "output_type": "execute_result"
    }
   ],
   "source": [
    "accidents_info_all"
   ]
  },
  {
   "cell_type": "code",
   "execution_count": 62,
   "id": "fc7b89a9",
   "metadata": {},
   "outputs": [],
   "source": [
    "datetime_variables = [\"Start_Time\"]"
   ]
  },
  {
   "cell_type": "code",
   "execution_count": 63,
   "id": "005f3728",
   "metadata": {},
   "outputs": [],
   "source": [
    "datetime_variables_processed = pd.DataFrame() #extracting date,time , month and year from start_time\n",
    "for datetime_variable in datetime_variables:\n",
    "    date = pd.to_datetime(accidents_info_all[datetime_variable])\n",
    "    datetime_variables_processed[\"Accident_year\"] = date.dt.year\n",
    "    datetime_variables_processed[\"Accident_month\"] = date.dt.month\n",
    "    datetime_variables_processed[\"Accident_hour\"] = date.dt.hour\n",
    "    datetime_variables_processed[\"Accident_start\"] = date"
   ]
  },
  {
   "cell_type": "code",
   "execution_count": 64,
   "id": "a1f4c4ca",
   "metadata": {},
   "outputs": [],
   "source": [
    "for datetime_variable in datetime_variables:\n",
    "    date = pd.to_datetime(accidents_info_all[\"End_Time\"])\n",
    "    datetime_variables_processed[\"Accident_end\"] = date"
   ]
  },
  {
   "cell_type": "code",
   "execution_count": 65,
   "id": "673e4432",
   "metadata": {},
   "outputs": [
    {
     "data": {
      "text/plain": [
       "Index(['Accident_year', 'Accident_month', 'Accident_hour'], dtype='object')"
      ]
     },
     "execution_count": 65,
     "metadata": {},
     "output_type": "execute_result"
    }
   ],
   "source": [
    "datetime_variables_processed = datetime_variables_processed.drop([\"Accident_start\",\"Accident_end\"], axis=1)\n",
    "datetime_variables_processed.columns"
   ]
  },
  {
   "cell_type": "code",
   "execution_count": 66,
   "id": "e5180767",
   "metadata": {},
   "outputs": [
    {
     "data": {
      "text/plain": [
       "array([14, 15, 17, 19, 21, 20, 22, 23,  0,  1,  3,  4,  5, 13, 16,  6,  7,\n",
       "        8,  9, 10, 11, 12, 18,  2], dtype=int64)"
      ]
     },
     "execution_count": 66,
     "metadata": {},
     "output_type": "execute_result"
    }
   ],
   "source": [
    "datetime_variables_processed[\"Accident_hour\"].unique()"
   ]
  },
  {
   "cell_type": "code",
   "execution_count": 67,
   "id": "ce8e6c9c",
   "metadata": {},
   "outputs": [
    {
     "data": {
      "text/plain": [
       "array([ 7,  3,  4,  9, 10, 12, 11,  6,  5,  8], dtype=int64)"
      ]
     },
     "execution_count": 67,
     "metadata": {},
     "output_type": "execute_result"
    }
   ],
   "source": [
    "datetime_variables_processed[\"Accident_month\"].unique()"
   ]
  },
  {
   "cell_type": "code",
   "execution_count": 68,
   "id": "1188e97f",
   "metadata": {},
   "outputs": [],
   "source": [
    "accidents_info_merged = pd.merge(left=accidents_info_all, right=datetime_variables_processed, left_on=accidents_info_all.index,\n",
    "         right_on=datetime_variables_processed.index) #merging the columns of time and date extracted from start_time with the data"
   ]
  },
  {
   "cell_type": "code",
   "execution_count": 69,
   "id": "12ff26fd",
   "metadata": {},
   "outputs": [
    {
     "data": {
      "text/html": [
       "<div>\n",
       "<style scoped>\n",
       "    .dataframe tbody tr th:only-of-type {\n",
       "        vertical-align: middle;\n",
       "    }\n",
       "\n",
       "    .dataframe tbody tr th {\n",
       "        vertical-align: top;\n",
       "    }\n",
       "\n",
       "    .dataframe thead th {\n",
       "        text-align: right;\n",
       "    }\n",
       "</style>\n",
       "<table border=\"1\" class=\"dataframe\">\n",
       "  <thead>\n",
       "    <tr style=\"text-align: right;\">\n",
       "      <th></th>\n",
       "      <th>key_0</th>\n",
       "      <th>Probability</th>\n",
       "      <th>Start_Time</th>\n",
       "      <th>End_Time</th>\n",
       "      <th>Distance(mi)</th>\n",
       "      <th>Temperature(F)</th>\n",
       "      <th>Wind_Chill(F)</th>\n",
       "      <th>Humidity(%)</th>\n",
       "      <th>Pressure(in)</th>\n",
       "      <th>Visibility(mi)</th>\n",
       "      <th>Wind_Speed(mph)</th>\n",
       "      <th>Precipitation(in)</th>\n",
       "      <th>Bump</th>\n",
       "      <th>Crossing</th>\n",
       "      <th>Roundabout</th>\n",
       "      <th>Stop</th>\n",
       "      <th>Traffic_Signal</th>\n",
       "      <th>Accident_year</th>\n",
       "      <th>Accident_month</th>\n",
       "      <th>Accident_hour</th>\n",
       "    </tr>\n",
       "  </thead>\n",
       "  <tbody>\n",
       "    <tr>\n",
       "      <th>0</th>\n",
       "      <td>0</td>\n",
       "      <td>0.68</td>\n",
       "      <td>2017-07-01 14:25:00</td>\n",
       "      <td>2017-07-01 20:25:00</td>\n",
       "      <td>0.691</td>\n",
       "      <td>66.9</td>\n",
       "      <td>NaN</td>\n",
       "      <td>54.0</td>\n",
       "      <td>29.93</td>\n",
       "      <td>10.0</td>\n",
       "      <td>16.1</td>\n",
       "      <td>NaN</td>\n",
       "      <td>False</td>\n",
       "      <td>False</td>\n",
       "      <td>False</td>\n",
       "      <td>False</td>\n",
       "      <td>False</td>\n",
       "      <td>2017</td>\n",
       "      <td>7</td>\n",
       "      <td>14</td>\n",
       "    </tr>\n",
       "    <tr>\n",
       "      <th>1</th>\n",
       "      <td>1</td>\n",
       "      <td>0.26</td>\n",
       "      <td>2017-07-01 14:32:00</td>\n",
       "      <td>2017-07-01 20:32:00</td>\n",
       "      <td>2.371</td>\n",
       "      <td>68.0</td>\n",
       "      <td>NaN</td>\n",
       "      <td>59.0</td>\n",
       "      <td>30.10</td>\n",
       "      <td>10.0</td>\n",
       "      <td>6.9</td>\n",
       "      <td>NaN</td>\n",
       "      <td>False</td>\n",
       "      <td>False</td>\n",
       "      <td>False</td>\n",
       "      <td>False</td>\n",
       "      <td>False</td>\n",
       "      <td>2017</td>\n",
       "      <td>7</td>\n",
       "      <td>14</td>\n",
       "    </tr>\n",
       "    <tr>\n",
       "      <th>2</th>\n",
       "      <td>2</td>\n",
       "      <td>0.59</td>\n",
       "      <td>2017-07-01 14:31:00</td>\n",
       "      <td>2017-07-01 20:31:00</td>\n",
       "      <td>0.789</td>\n",
       "      <td>70.5</td>\n",
       "      <td>NaN</td>\n",
       "      <td>70.0</td>\n",
       "      <td>29.88</td>\n",
       "      <td>10.0</td>\n",
       "      <td>8.1</td>\n",
       "      <td>NaN</td>\n",
       "      <td>False</td>\n",
       "      <td>False</td>\n",
       "      <td>False</td>\n",
       "      <td>False</td>\n",
       "      <td>False</td>\n",
       "      <td>2017</td>\n",
       "      <td>7</td>\n",
       "      <td>14</td>\n",
       "    </tr>\n",
       "    <tr>\n",
       "      <th>3</th>\n",
       "      <td>3</td>\n",
       "      <td>0.52</td>\n",
       "      <td>2017-07-01 14:42:00</td>\n",
       "      <td>2017-07-01 20:42:00</td>\n",
       "      <td>4.005</td>\n",
       "      <td>86.0</td>\n",
       "      <td>NaN</td>\n",
       "      <td>27.0</td>\n",
       "      <td>29.94</td>\n",
       "      <td>10.0</td>\n",
       "      <td>4.6</td>\n",
       "      <td>NaN</td>\n",
       "      <td>False</td>\n",
       "      <td>False</td>\n",
       "      <td>False</td>\n",
       "      <td>False</td>\n",
       "      <td>False</td>\n",
       "      <td>2017</td>\n",
       "      <td>7</td>\n",
       "      <td>14</td>\n",
       "    </tr>\n",
       "    <tr>\n",
       "      <th>4</th>\n",
       "      <td>4</td>\n",
       "      <td>0.58</td>\n",
       "      <td>2017-07-01 14:42:00</td>\n",
       "      <td>2017-07-01 20:42:00</td>\n",
       "      <td>4.136</td>\n",
       "      <td>86.0</td>\n",
       "      <td>NaN</td>\n",
       "      <td>27.0</td>\n",
       "      <td>29.94</td>\n",
       "      <td>10.0</td>\n",
       "      <td>4.6</td>\n",
       "      <td>NaN</td>\n",
       "      <td>False</td>\n",
       "      <td>False</td>\n",
       "      <td>False</td>\n",
       "      <td>False</td>\n",
       "      <td>False</td>\n",
       "      <td>2017</td>\n",
       "      <td>7</td>\n",
       "      <td>14</td>\n",
       "    </tr>\n",
       "    <tr>\n",
       "      <th>...</th>\n",
       "      <td>...</td>\n",
       "      <td>...</td>\n",
       "      <td>...</td>\n",
       "      <td>...</td>\n",
       "      <td>...</td>\n",
       "      <td>...</td>\n",
       "      <td>...</td>\n",
       "      <td>...</td>\n",
       "      <td>...</td>\n",
       "      <td>...</td>\n",
       "      <td>...</td>\n",
       "      <td>...</td>\n",
       "      <td>...</td>\n",
       "      <td>...</td>\n",
       "      <td>...</td>\n",
       "      <td>...</td>\n",
       "      <td>...</td>\n",
       "      <td>...</td>\n",
       "      <td>...</td>\n",
       "      <td>...</td>\n",
       "    </tr>\n",
       "    <tr>\n",
       "      <th>4481</th>\n",
       "      <td>4481</td>\n",
       "      <td>0.40</td>\n",
       "      <td>2021-07-18 12:58:00</td>\n",
       "      <td>2021-07-18 14:39:00</td>\n",
       "      <td>3.003</td>\n",
       "      <td>90.0</td>\n",
       "      <td>90.0</td>\n",
       "      <td>57.0</td>\n",
       "      <td>29.93</td>\n",
       "      <td>10.0</td>\n",
       "      <td>0.0</td>\n",
       "      <td>0.00</td>\n",
       "      <td>False</td>\n",
       "      <td>False</td>\n",
       "      <td>False</td>\n",
       "      <td>False</td>\n",
       "      <td>False</td>\n",
       "      <td>2021</td>\n",
       "      <td>7</td>\n",
       "      <td>12</td>\n",
       "    </tr>\n",
       "    <tr>\n",
       "      <th>4482</th>\n",
       "      <td>4482</td>\n",
       "      <td>0.43</td>\n",
       "      <td>2021-09-02 08:12:00</td>\n",
       "      <td>2021-09-02 09:25:00</td>\n",
       "      <td>0.259</td>\n",
       "      <td>68.0</td>\n",
       "      <td>68.0</td>\n",
       "      <td>100.0</td>\n",
       "      <td>28.91</td>\n",
       "      <td>10.0</td>\n",
       "      <td>0.0</td>\n",
       "      <td>0.00</td>\n",
       "      <td>False</td>\n",
       "      <td>False</td>\n",
       "      <td>False</td>\n",
       "      <td>False</td>\n",
       "      <td>False</td>\n",
       "      <td>2021</td>\n",
       "      <td>9</td>\n",
       "      <td>8</td>\n",
       "    </tr>\n",
       "    <tr>\n",
       "      <th>4483</th>\n",
       "      <td>4483</td>\n",
       "      <td>0.36</td>\n",
       "      <td>2021-08-13 14:00:00</td>\n",
       "      <td>2021-08-13 17:01:00</td>\n",
       "      <td>0.285</td>\n",
       "      <td>96.0</td>\n",
       "      <td>96.0</td>\n",
       "      <td>40.0</td>\n",
       "      <td>29.39</td>\n",
       "      <td>10.0</td>\n",
       "      <td>0.0</td>\n",
       "      <td>0.00</td>\n",
       "      <td>False</td>\n",
       "      <td>False</td>\n",
       "      <td>False</td>\n",
       "      <td>False</td>\n",
       "      <td>False</td>\n",
       "      <td>2021</td>\n",
       "      <td>8</td>\n",
       "      <td>14</td>\n",
       "    </tr>\n",
       "    <tr>\n",
       "      <th>4484</th>\n",
       "      <td>4484</td>\n",
       "      <td>0.34</td>\n",
       "      <td>2021-08-01 23:57:00</td>\n",
       "      <td>2021-08-02 01:16:00</td>\n",
       "      <td>0.219</td>\n",
       "      <td>80.0</td>\n",
       "      <td>80.0</td>\n",
       "      <td>87.0</td>\n",
       "      <td>30.09</td>\n",
       "      <td>10.0</td>\n",
       "      <td>3.0</td>\n",
       "      <td>0.08</td>\n",
       "      <td>False</td>\n",
       "      <td>False</td>\n",
       "      <td>False</td>\n",
       "      <td>False</td>\n",
       "      <td>False</td>\n",
       "      <td>2021</td>\n",
       "      <td>8</td>\n",
       "      <td>23</td>\n",
       "    </tr>\n",
       "    <tr>\n",
       "      <th>4485</th>\n",
       "      <td>4485</td>\n",
       "      <td>0.32</td>\n",
       "      <td>2021-11-27 21:03:00</td>\n",
       "      <td>2021-11-27 22:23:00</td>\n",
       "      <td>0.097</td>\n",
       "      <td>59.0</td>\n",
       "      <td>59.0</td>\n",
       "      <td>75.0</td>\n",
       "      <td>30.06</td>\n",
       "      <td>10.0</td>\n",
       "      <td>0.0</td>\n",
       "      <td>0.00</td>\n",
       "      <td>False</td>\n",
       "      <td>False</td>\n",
       "      <td>False</td>\n",
       "      <td>False</td>\n",
       "      <td>True</td>\n",
       "      <td>2021</td>\n",
       "      <td>11</td>\n",
       "      <td>21</td>\n",
       "    </tr>\n",
       "  </tbody>\n",
       "</table>\n",
       "<p>4486 rows × 20 columns</p>\n",
       "</div>"
      ],
      "text/plain": [
       "      key_0  Probability          Start_Time            End_Time  \\\n",
       "0         0         0.68 2017-07-01 14:25:00 2017-07-01 20:25:00   \n",
       "1         1         0.26 2017-07-01 14:32:00 2017-07-01 20:32:00   \n",
       "2         2         0.59 2017-07-01 14:31:00 2017-07-01 20:31:00   \n",
       "3         3         0.52 2017-07-01 14:42:00 2017-07-01 20:42:00   \n",
       "4         4         0.58 2017-07-01 14:42:00 2017-07-01 20:42:00   \n",
       "...     ...          ...                 ...                 ...   \n",
       "4481   4481         0.40 2021-07-18 12:58:00 2021-07-18 14:39:00   \n",
       "4482   4482         0.43 2021-09-02 08:12:00 2021-09-02 09:25:00   \n",
       "4483   4483         0.36 2021-08-13 14:00:00 2021-08-13 17:01:00   \n",
       "4484   4484         0.34 2021-08-01 23:57:00 2021-08-02 01:16:00   \n",
       "4485   4485         0.32 2021-11-27 21:03:00 2021-11-27 22:23:00   \n",
       "\n",
       "      Distance(mi)  Temperature(F)  Wind_Chill(F)  Humidity(%)  Pressure(in)  \\\n",
       "0            0.691            66.9            NaN         54.0         29.93   \n",
       "1            2.371            68.0            NaN         59.0         30.10   \n",
       "2            0.789            70.5            NaN         70.0         29.88   \n",
       "3            4.005            86.0            NaN         27.0         29.94   \n",
       "4            4.136            86.0            NaN         27.0         29.94   \n",
       "...            ...             ...            ...          ...           ...   \n",
       "4481         3.003            90.0           90.0         57.0         29.93   \n",
       "4482         0.259            68.0           68.0        100.0         28.91   \n",
       "4483         0.285            96.0           96.0         40.0         29.39   \n",
       "4484         0.219            80.0           80.0         87.0         30.09   \n",
       "4485         0.097            59.0           59.0         75.0         30.06   \n",
       "\n",
       "      Visibility(mi)  Wind_Speed(mph)  Precipitation(in)   Bump  Crossing  \\\n",
       "0               10.0             16.1                NaN  False     False   \n",
       "1               10.0              6.9                NaN  False     False   \n",
       "2               10.0              8.1                NaN  False     False   \n",
       "3               10.0              4.6                NaN  False     False   \n",
       "4               10.0              4.6                NaN  False     False   \n",
       "...              ...              ...                ...    ...       ...   \n",
       "4481            10.0              0.0               0.00  False     False   \n",
       "4482            10.0              0.0               0.00  False     False   \n",
       "4483            10.0              0.0               0.00  False     False   \n",
       "4484            10.0              3.0               0.08  False     False   \n",
       "4485            10.0              0.0               0.00  False     False   \n",
       "\n",
       "      Roundabout   Stop  Traffic_Signal  Accident_year  Accident_month  \\\n",
       "0          False  False           False           2017               7   \n",
       "1          False  False           False           2017               7   \n",
       "2          False  False           False           2017               7   \n",
       "3          False  False           False           2017               7   \n",
       "4          False  False           False           2017               7   \n",
       "...          ...    ...             ...            ...             ...   \n",
       "4481       False  False           False           2021               7   \n",
       "4482       False  False           False           2021               9   \n",
       "4483       False  False           False           2021               8   \n",
       "4484       False  False           False           2021               8   \n",
       "4485       False  False            True           2021              11   \n",
       "\n",
       "      Accident_hour  \n",
       "0                14  \n",
       "1                14  \n",
       "2                14  \n",
       "3                14  \n",
       "4                14  \n",
       "...             ...  \n",
       "4481             12  \n",
       "4482              8  \n",
       "4483             14  \n",
       "4484             23  \n",
       "4485             21  \n",
       "\n",
       "[4486 rows x 20 columns]"
      ]
     },
     "execution_count": 69,
     "metadata": {},
     "output_type": "execute_result"
    }
   ],
   "source": [
    "accidents_info_merged"
   ]
  },
  {
   "cell_type": "code",
   "execution_count": 70,
   "id": "389b12bc",
   "metadata": {},
   "outputs": [
    {
     "data": {
      "text/plain": [
       "key_0                         int64\n",
       "Probability                 float64\n",
       "Start_Time           datetime64[ns]\n",
       "End_Time             datetime64[ns]\n",
       "Distance(mi)                float64\n",
       "Temperature(F)              float64\n",
       "Wind_Chill(F)               float64\n",
       "Humidity(%)                 float64\n",
       "Pressure(in)                float64\n",
       "Visibility(mi)              float64\n",
       "Wind_Speed(mph)             float64\n",
       "Precipitation(in)           float64\n",
       "Bump                           bool\n",
       "Crossing                       bool\n",
       "Roundabout                     bool\n",
       "Stop                           bool\n",
       "Traffic_Signal                 bool\n",
       "Accident_year                 int64\n",
       "Accident_month                int64\n",
       "Accident_hour                 int64\n",
       "dtype: object"
      ]
     },
     "execution_count": 70,
     "metadata": {},
     "output_type": "execute_result"
    }
   ],
   "source": [
    "accidents_info_merged.dtypes"
   ]
  },
  {
   "cell_type": "code",
   "execution_count": 71,
   "id": "a95e6654",
   "metadata": {},
   "outputs": [
    {
     "name": "stdout",
     "output_type": "stream",
     "text": [
      "<class 'pandas.core.frame.DataFrame'>\n",
      "Int64Index: 4486 entries, 0 to 4485\n",
      "Data columns (total 20 columns):\n",
      " #   Column             Non-Null Count  Dtype         \n",
      "---  ------             --------------  -----         \n",
      " 0   key_0              4486 non-null   int64         \n",
      " 1   Probability        4486 non-null   float64       \n",
      " 2   Start_Time         4486 non-null   datetime64[ns]\n",
      " 3   End_Time           4486 non-null   datetime64[ns]\n",
      " 4   Distance(mi)       4486 non-null   float64       \n",
      " 5   Temperature(F)     4389 non-null   float64       \n",
      " 6   Wind_Chill(F)      426 non-null    float64       \n",
      " 7   Humidity(%)        4389 non-null   float64       \n",
      " 8   Pressure(in)       4404 non-null   float64       \n",
      " 9   Visibility(mi)     4367 non-null   float64       \n",
      " 10  Wind_Speed(mph)    3642 non-null   float64       \n",
      " 11  Precipitation(in)  710 non-null    float64       \n",
      " 12  Bump               4486 non-null   bool          \n",
      " 13  Crossing           4486 non-null   bool          \n",
      " 14  Roundabout         4486 non-null   bool          \n",
      " 15  Stop               4486 non-null   bool          \n",
      " 16  Traffic_Signal     4486 non-null   bool          \n",
      " 17  Accident_year      4486 non-null   int64         \n",
      " 18  Accident_month     4486 non-null   int64         \n",
      " 19  Accident_hour      4486 non-null   int64         \n",
      "dtypes: bool(5), datetime64[ns](2), float64(9), int64(4)\n",
      "memory usage: 582.7 KB\n"
     ]
    }
   ],
   "source": [
    "accidents_info_merged.info()"
   ]
  },
  {
   "cell_type": "code",
   "execution_count": 72,
   "id": "c3f823cb",
   "metadata": {},
   "outputs": [
    {
     "data": {
      "text/plain": [
       "(4486, 20)"
      ]
     },
     "execution_count": 72,
     "metadata": {},
     "output_type": "execute_result"
    }
   ],
   "source": [
    "accidents_info_merged.shape"
   ]
  },
  {
   "cell_type": "code",
   "execution_count": 73,
   "id": "a1aefd16",
   "metadata": {},
   "outputs": [],
   "source": [
    "accidents_info = accidents_info_merged"
   ]
  },
  {
   "cell_type": "code",
   "execution_count": 74,
   "id": "96bf1a1b",
   "metadata": {},
   "outputs": [
    {
     "data": {
      "text/plain": [
       "(4486, 20)"
      ]
     },
     "execution_count": 74,
     "metadata": {},
     "output_type": "execute_result"
    }
   ],
   "source": [
    "accidents_info.shape"
   ]
  },
  {
   "cell_type": "code",
   "execution_count": 75,
   "id": "7b45b1df",
   "metadata": {},
   "outputs": [
    {
     "data": {
      "text/plain": [
       "key_0                         int64\n",
       "Probability                 float64\n",
       "Start_Time           datetime64[ns]\n",
       "End_Time             datetime64[ns]\n",
       "Distance(mi)                float64\n",
       "Temperature(F)              float64\n",
       "Wind_Chill(F)               float64\n",
       "Humidity(%)                 float64\n",
       "Pressure(in)                float64\n",
       "Visibility(mi)              float64\n",
       "Wind_Speed(mph)             float64\n",
       "Precipitation(in)           float64\n",
       "Bump                           bool\n",
       "Crossing                       bool\n",
       "Roundabout                     bool\n",
       "Stop                           bool\n",
       "Traffic_Signal                 bool\n",
       "Accident_year                 int64\n",
       "Accident_month                int64\n",
       "Accident_hour                 int64\n",
       "dtype: object"
      ]
     },
     "execution_count": 75,
     "metadata": {},
     "output_type": "execute_result"
    }
   ],
   "source": [
    "accidents_info.dtypes"
   ]
  },
  {
   "cell_type": "code",
   "execution_count": 76,
   "id": "2ce9cc12",
   "metadata": {},
   "outputs": [
    {
     "data": {
      "text/plain": [
       "key_0                   0\n",
       "Probability             0\n",
       "Start_Time              0\n",
       "End_Time                0\n",
       "Distance(mi)            0\n",
       "Temperature(F)         97\n",
       "Wind_Chill(F)        4060\n",
       "Humidity(%)            97\n",
       "Pressure(in)           82\n",
       "Visibility(mi)        119\n",
       "Wind_Speed(mph)       844\n",
       "Precipitation(in)    3776\n",
       "Bump                    0\n",
       "Crossing                0\n",
       "Roundabout              0\n",
       "Stop                    0\n",
       "Traffic_Signal          0\n",
       "Accident_year           0\n",
       "Accident_month          0\n",
       "Accident_hour           0\n",
       "dtype: int64"
      ]
     },
     "execution_count": 76,
     "metadata": {},
     "output_type": "execute_result"
    }
   ],
   "source": [
    "accidents_info.isnull().sum()"
   ]
  },
  {
   "cell_type": "code",
   "execution_count": 77,
   "id": "adc37f6e",
   "metadata": {},
   "outputs": [],
   "source": [
    "Temperature_mean=accidents_info['Temperature(F)'].mean()\n",
    "accidents_info['Temperature(F)'].fillna(value=Temperature_mean, inplace=True)\n",
    "\n",
    "Wind_Chill_mean=accidents_info['Wind_Chill(F)'].mean()\n",
    "accidents_info['Wind_Chill(F)'].fillna(value=Wind_Chill_mean, inplace=True)\n",
    "\n",
    "Humidity_mean=accidents_info['Humidity(%)'].mean()\n",
    "accidents_info['Humidity(%)'].fillna(value=Humidity_mean, inplace=True)\n",
    "\n",
    "\n",
    "Pressure_mean=accidents_info['Pressure(in)'].mean()\n",
    "accidents_info['Pressure(in)'].fillna(value=Pressure_mean, inplace=True)\n",
    "\n",
    "Visibility_mean=accidents_info['Visibility(mi)'].mean()\n",
    "accidents_info['Visibility(mi)'].fillna(value=Visibility_mean, inplace=True)\n",
    "\n",
    "Wind_Speed_mean=accidents_info['Wind_Speed(mph)'].mean()\n",
    "accidents_info['Wind_Speed(mph)'].fillna(value=Wind_Speed_mean, inplace=True)\n",
    "\n",
    "Precipitation_mean=accidents_info['Precipitation(in)'].mean()\n",
    "accidents_info['Precipitation(in)'].fillna(value=Precipitation_mean, inplace=True)\n",
    "\n"
   ]
  },
  {
   "cell_type": "code",
   "execution_count": 78,
   "id": "acd2da75",
   "metadata": {},
   "outputs": [
    {
     "data": {
      "text/plain": [
       "key_0                0\n",
       "Probability          0\n",
       "Start_Time           0\n",
       "End_Time             0\n",
       "Distance(mi)         0\n",
       "Temperature(F)       0\n",
       "Wind_Chill(F)        0\n",
       "Humidity(%)          0\n",
       "Pressure(in)         0\n",
       "Visibility(mi)       0\n",
       "Wind_Speed(mph)      0\n",
       "Precipitation(in)    0\n",
       "Bump                 0\n",
       "Crossing             0\n",
       "Roundabout           0\n",
       "Stop                 0\n",
       "Traffic_Signal       0\n",
       "Accident_year        0\n",
       "Accident_month       0\n",
       "Accident_hour        0\n",
       "dtype: int64"
      ]
     },
     "execution_count": 78,
     "metadata": {},
     "output_type": "execute_result"
    }
   ],
   "source": [
    "accidents_info.isnull().sum()"
   ]
  },
  {
   "cell_type": "code",
   "execution_count": 79,
   "id": "4d92a740",
   "metadata": {},
   "outputs": [],
   "source": [
    "accidents_info = accidents_info.drop(\n",
    "    ['key_0', 'Start_Time', 'End_Time'], axis=1)"
   ]
  },
  {
   "cell_type": "code",
   "execution_count": 80,
   "id": "9589da99",
   "metadata": {},
   "outputs": [
    {
     "data": {
      "text/plain": [
       "(4486, 17)"
      ]
     },
     "execution_count": 80,
     "metadata": {},
     "output_type": "execute_result"
    }
   ],
   "source": [
    "accidents_info.shape"
   ]
  },
  {
   "cell_type": "code",
   "execution_count": 81,
   "id": "ed9712a6",
   "metadata": {},
   "outputs": [
    {
     "data": {
      "text/plain": [
       "Probability          0\n",
       "Distance(mi)         0\n",
       "Temperature(F)       0\n",
       "Wind_Chill(F)        0\n",
       "Humidity(%)          0\n",
       "Pressure(in)         0\n",
       "Visibility(mi)       0\n",
       "Wind_Speed(mph)      0\n",
       "Precipitation(in)    0\n",
       "Bump                 0\n",
       "Crossing             0\n",
       "Roundabout           0\n",
       "Stop                 0\n",
       "Traffic_Signal       0\n",
       "Accident_year        0\n",
       "Accident_month       0\n",
       "Accident_hour        0\n",
       "dtype: int64"
      ]
     },
     "execution_count": 81,
     "metadata": {},
     "output_type": "execute_result"
    }
   ],
   "source": [
    "accidents_info.isnull().sum()"
   ]
  },
  {
   "cell_type": "code",
   "execution_count": 82,
   "id": "6c83f80a",
   "metadata": {},
   "outputs": [
    {
     "data": {
      "text/plain": [
       "0       0.68\n",
       "1       0.26\n",
       "2       0.59\n",
       "3       0.52\n",
       "4       0.58\n",
       "        ... \n",
       "4481    0.40\n",
       "4482    0.43\n",
       "4483    0.36\n",
       "4484    0.34\n",
       "4485    0.32\n",
       "Name: Probability, Length: 4486, dtype: float64"
      ]
     },
     "execution_count": 82,
     "metadata": {},
     "output_type": "execute_result"
    }
   ],
   "source": [
    "Probability = accidents_info['Probability']\n",
    "Probability     "
   ]
  },
  {
   "cell_type": "code",
   "execution_count": 83,
   "id": "7befa38f",
   "metadata": {},
   "outputs": [],
   "source": [
    "accidents_info.to_csv(\"NEW BUILD transformed-2-0-csv.csv\")"
   ]
  },
  {
   "cell_type": "code",
   "execution_count": 84,
   "id": "ce96e8c6",
   "metadata": {},
   "outputs": [],
   "source": [
    "def plot_hist(df, bins = None, y_label = None, x_label = None):\n",
    "    plt.hist(Probability, bins=4)\n",
    "    if(y_label != None):\n",
    "        plt.ylabel(y_label)\n",
    "    if(x_label != None):\n",
    "        plt.xlabel(x_label)\n",
    "    plt.show()"
   ]
  },
  {
   "cell_type": "code",
   "execution_count": 85,
   "id": "d1ab1ced",
   "metadata": {},
   "outputs": [
    {
     "data": {
      "image/png": "[encoded data removed]",
      "text/plain": [
       "<Figure size 432x288 with 1 Axes>"
      ]
     },
     "metadata": {
      "needs_background": "light"
     },
     "output_type": "display_data"
    }
   ],
   "source": [
    "plot_hist(Probability, 4 , \"Accidents count\", \"Severity\")"
   ]
  },
  {
   "cell_type": "code",
   "execution_count": 86,
   "id": "0ece1fbe",
   "metadata": {},
   "outputs": [
    {
     "data": {
      "text/plain": [
       "<AxesSubplot:>"
      ]
     },
     "execution_count": 86,
     "metadata": {},
     "output_type": "execute_result"
    },
    {
     "data": {
      "image/png": "[encoded data removed]",
      "text/plain": [
       "<Figure size 1440x648 with 2 Axes>"
      ]
     },
     "metadata": {
      "needs_background": "light"
     },
     "output_type": "display_data"
    }
   ],
   "source": [
    "corr =  accidents_info.corr()\n",
    "plt.subplots(figsize=(20,9))\n",
    "sns.heatmap(corr)"
   ]
  },
  {
   "cell_type": "code",
   "execution_count": 87,
   "id": "04261275",
   "metadata": {},
   "outputs": [],
   "source": [
    "accidents_attributes = accidents_info.drop(\"Probability\", axis=1)\n"
   ]
  },
  {
   "cell_type": "code",
   "execution_count": 88,
   "id": "5f6d3d6e",
   "metadata": {},
   "outputs": [
    {
     "data": {
      "text/plain": [
       "Distance(mi)         float64\n",
       "Temperature(F)       float64\n",
       "Wind_Chill(F)        float64\n",
       "Humidity(%)          float64\n",
       "Pressure(in)         float64\n",
       "Visibility(mi)       float64\n",
       "Wind_Speed(mph)      float64\n",
       "Precipitation(in)    float64\n",
       "Bump                    bool\n",
       "Crossing                bool\n",
       "Roundabout              bool\n",
       "Stop                    bool\n",
       "Traffic_Signal          bool\n",
       "Accident_year          int64\n",
       "Accident_month         int64\n",
       "Accident_hour          int64\n",
       "dtype: object"
      ]
     },
     "execution_count": 88,
     "metadata": {},
     "output_type": "execute_result"
    }
   ],
   "source": [
    "accidents_attributes.dtypes"
   ]
  },
  {
   "cell_type": "code",
   "execution_count": 89,
   "id": "e7e706e4",
   "metadata": {},
   "outputs": [
    {
     "data": {
      "text/html": [
       "<div>\n",
       "<style scoped>\n",
       "    .dataframe tbody tr th:only-of-type {\n",
       "        vertical-align: middle;\n",
       "    }\n",
       "\n",
       "    .dataframe tbody tr th {\n",
       "        vertical-align: top;\n",
       "    }\n",
       "\n",
       "    .dataframe thead th {\n",
       "        text-align: right;\n",
       "    }\n",
       "</style>\n",
       "<table border=\"1\" class=\"dataframe\">\n",
       "  <thead>\n",
       "    <tr style=\"text-align: right;\">\n",
       "      <th></th>\n",
       "      <th>Distance(mi)</th>\n",
       "      <th>Temperature(F)</th>\n",
       "      <th>Wind_Chill(F)</th>\n",
       "      <th>Humidity(%)</th>\n",
       "      <th>Pressure(in)</th>\n",
       "      <th>Visibility(mi)</th>\n",
       "      <th>Wind_Speed(mph)</th>\n",
       "      <th>Precipitation(in)</th>\n",
       "      <th>Bump</th>\n",
       "      <th>Crossing</th>\n",
       "      <th>Roundabout</th>\n",
       "      <th>Stop</th>\n",
       "      <th>Traffic_Signal</th>\n",
       "      <th>Accident_year</th>\n",
       "      <th>Accident_month</th>\n",
       "      <th>Accident_hour</th>\n",
       "    </tr>\n",
       "  </thead>\n",
       "  <tbody>\n",
       "    <tr>\n",
       "      <th>0</th>\n",
       "      <td>0.691</td>\n",
       "      <td>66.9</td>\n",
       "      <td>63.994131</td>\n",
       "      <td>54.0</td>\n",
       "      <td>29.93</td>\n",
       "      <td>10.0</td>\n",
       "      <td>16.1</td>\n",
       "      <td>0.079662</td>\n",
       "      <td>False</td>\n",
       "      <td>False</td>\n",
       "      <td>False</td>\n",
       "      <td>False</td>\n",
       "      <td>False</td>\n",
       "      <td>2017</td>\n",
       "      <td>7</td>\n",
       "      <td>14</td>\n",
       "    </tr>\n",
       "    <tr>\n",
       "      <th>1</th>\n",
       "      <td>2.371</td>\n",
       "      <td>68.0</td>\n",
       "      <td>63.994131</td>\n",
       "      <td>59.0</td>\n",
       "      <td>30.10</td>\n",
       "      <td>10.0</td>\n",
       "      <td>6.9</td>\n",
       "      <td>0.079662</td>\n",
       "      <td>False</td>\n",
       "      <td>False</td>\n",
       "      <td>False</td>\n",
       "      <td>False</td>\n",
       "      <td>False</td>\n",
       "      <td>2017</td>\n",
       "      <td>7</td>\n",
       "      <td>14</td>\n",
       "    </tr>\n",
       "    <tr>\n",
       "      <th>2</th>\n",
       "      <td>0.789</td>\n",
       "      <td>70.5</td>\n",
       "      <td>63.994131</td>\n",
       "      <td>70.0</td>\n",
       "      <td>29.88</td>\n",
       "      <td>10.0</td>\n",
       "      <td>8.1</td>\n",
       "      <td>0.079662</td>\n",
       "      <td>False</td>\n",
       "      <td>False</td>\n",
       "      <td>False</td>\n",
       "      <td>False</td>\n",
       "      <td>False</td>\n",
       "      <td>2017</td>\n",
       "      <td>7</td>\n",
       "      <td>14</td>\n",
       "    </tr>\n",
       "    <tr>\n",
       "      <th>3</th>\n",
       "      <td>4.005</td>\n",
       "      <td>86.0</td>\n",
       "      <td>63.994131</td>\n",
       "      <td>27.0</td>\n",
       "      <td>29.94</td>\n",
       "      <td>10.0</td>\n",
       "      <td>4.6</td>\n",
       "      <td>0.079662</td>\n",
       "      <td>False</td>\n",
       "      <td>False</td>\n",
       "      <td>False</td>\n",
       "      <td>False</td>\n",
       "      <td>False</td>\n",
       "      <td>2017</td>\n",
       "      <td>7</td>\n",
       "      <td>14</td>\n",
       "    </tr>\n",
       "    <tr>\n",
       "      <th>4</th>\n",
       "      <td>4.136</td>\n",
       "      <td>86.0</td>\n",
       "      <td>63.994131</td>\n",
       "      <td>27.0</td>\n",
       "      <td>29.94</td>\n",
       "      <td>10.0</td>\n",
       "      <td>4.6</td>\n",
       "      <td>0.079662</td>\n",
       "      <td>False</td>\n",
       "      <td>False</td>\n",
       "      <td>False</td>\n",
       "      <td>False</td>\n",
       "      <td>False</td>\n",
       "      <td>2017</td>\n",
       "      <td>7</td>\n",
       "      <td>14</td>\n",
       "    </tr>\n",
       "    <tr>\n",
       "      <th>...</th>\n",
       "      <td>...</td>\n",
       "      <td>...</td>\n",
       "      <td>...</td>\n",
       "      <td>...</td>\n",
       "      <td>...</td>\n",
       "      <td>...</td>\n",
       "      <td>...</td>\n",
       "      <td>...</td>\n",
       "      <td>...</td>\n",
       "      <td>...</td>\n",
       "      <td>...</td>\n",
       "      <td>...</td>\n",
       "      <td>...</td>\n",
       "      <td>...</td>\n",
       "      <td>...</td>\n",
       "      <td>...</td>\n",
       "    </tr>\n",
       "    <tr>\n",
       "      <th>4481</th>\n",
       "      <td>3.003</td>\n",
       "      <td>90.0</td>\n",
       "      <td>90.000000</td>\n",
       "      <td>57.0</td>\n",
       "      <td>29.93</td>\n",
       "      <td>10.0</td>\n",
       "      <td>0.0</td>\n",
       "      <td>0.000000</td>\n",
       "      <td>False</td>\n",
       "      <td>False</td>\n",
       "      <td>False</td>\n",
       "      <td>False</td>\n",
       "      <td>False</td>\n",
       "      <td>2021</td>\n",
       "      <td>7</td>\n",
       "      <td>12</td>\n",
       "    </tr>\n",
       "    <tr>\n",
       "      <th>4482</th>\n",
       "      <td>0.259</td>\n",
       "      <td>68.0</td>\n",
       "      <td>68.000000</td>\n",
       "      <td>100.0</td>\n",
       "      <td>28.91</td>\n",
       "      <td>10.0</td>\n",
       "      <td>0.0</td>\n",
       "      <td>0.000000</td>\n",
       "      <td>False</td>\n",
       "      <td>False</td>\n",
       "      <td>False</td>\n",
       "      <td>False</td>\n",
       "      <td>False</td>\n",
       "      <td>2021</td>\n",
       "      <td>9</td>\n",
       "      <td>8</td>\n",
       "    </tr>\n",
       "    <tr>\n",
       "      <th>4483</th>\n",
       "      <td>0.285</td>\n",
       "      <td>96.0</td>\n",
       "      <td>96.000000</td>\n",
       "      <td>40.0</td>\n",
       "      <td>29.39</td>\n",
       "      <td>10.0</td>\n",
       "      <td>0.0</td>\n",
       "      <td>0.000000</td>\n",
       "      <td>False</td>\n",
       "      <td>False</td>\n",
       "      <td>False</td>\n",
       "      <td>False</td>\n",
       "      <td>False</td>\n",
       "      <td>2021</td>\n",
       "      <td>8</td>\n",
       "      <td>14</td>\n",
       "    </tr>\n",
       "    <tr>\n",
       "      <th>4484</th>\n",
       "      <td>0.219</td>\n",
       "      <td>80.0</td>\n",
       "      <td>80.000000</td>\n",
       "      <td>87.0</td>\n",
       "      <td>30.09</td>\n",
       "      <td>10.0</td>\n",
       "      <td>3.0</td>\n",
       "      <td>0.080000</td>\n",
       "      <td>False</td>\n",
       "      <td>False</td>\n",
       "      <td>False</td>\n",
       "      <td>False</td>\n",
       "      <td>False</td>\n",
       "      <td>2021</td>\n",
       "      <td>8</td>\n",
       "      <td>23</td>\n",
       "    </tr>\n",
       "    <tr>\n",
       "      <th>4485</th>\n",
       "      <td>0.097</td>\n",
       "      <td>59.0</td>\n",
       "      <td>59.000000</td>\n",
       "      <td>75.0</td>\n",
       "      <td>30.06</td>\n",
       "      <td>10.0</td>\n",
       "      <td>0.0</td>\n",
       "      <td>0.000000</td>\n",
       "      <td>False</td>\n",
       "      <td>False</td>\n",
       "      <td>False</td>\n",
       "      <td>False</td>\n",
       "      <td>True</td>\n",
       "      <td>2021</td>\n",
       "      <td>11</td>\n",
       "      <td>21</td>\n",
       "    </tr>\n",
       "  </tbody>\n",
       "</table>\n",
       "<p>4486 rows × 16 columns</p>\n",
       "</div>"
      ],
      "text/plain": [
       "      Distance(mi)  Temperature(F)  Wind_Chill(F)  Humidity(%)  Pressure(in)  \\\n",
       "0            0.691            66.9      63.994131         54.0         29.93   \n",
       "1            2.371            68.0      63.994131         59.0         30.10   \n",
       "2            0.789            70.5      63.994131         70.0         29.88   \n",
       "3            4.005            86.0      63.994131         27.0         29.94   \n",
       "4            4.136            86.0      63.994131         27.0         29.94   \n",
       "...            ...             ...            ...          ...           ...   \n",
       "4481         3.003            90.0      90.000000         57.0         29.93   \n",
       "4482         0.259            68.0      68.000000        100.0         28.91   \n",
       "4483         0.285            96.0      96.000000         40.0         29.39   \n",
       "4484         0.219            80.0      80.000000         87.0         30.09   \n",
       "4485         0.097            59.0      59.000000         75.0         30.06   \n",
       "\n",
       "      Visibility(mi)  Wind_Speed(mph)  Precipitation(in)   Bump  Crossing  \\\n",
       "0               10.0             16.1           0.079662  False     False   \n",
       "1               10.0              6.9           0.079662  False     False   \n",
       "2               10.0              8.1           0.079662  False     False   \n",
       "3               10.0              4.6           0.079662  False     False   \n",
       "4               10.0              4.6           0.079662  False     False   \n",
       "...              ...              ...                ...    ...       ...   \n",
       "4481            10.0              0.0           0.000000  False     False   \n",
       "4482            10.0              0.0           0.000000  False     False   \n",
       "4483            10.0              0.0           0.000000  False     False   \n",
       "4484            10.0              3.0           0.080000  False     False   \n",
       "4485            10.0              0.0           0.000000  False     False   \n",
       "\n",
       "      Roundabout   Stop  Traffic_Signal  Accident_year  Accident_month  \\\n",
       "0          False  False           False           2017               7   \n",
       "1          False  False           False           2017               7   \n",
       "2          False  False           False           2017               7   \n",
       "3          False  False           False           2017               7   \n",
       "4          False  False           False           2017               7   \n",
       "...          ...    ...             ...            ...             ...   \n",
       "4481       False  False           False           2021               7   \n",
       "4482       False  False           False           2021               9   \n",
       "4483       False  False           False           2021               8   \n",
       "4484       False  False           False           2021               8   \n",
       "4485       False  False            True           2021              11   \n",
       "\n",
       "      Accident_hour  \n",
       "0                14  \n",
       "1                14  \n",
       "2                14  \n",
       "3                14  \n",
       "4                14  \n",
       "...             ...  \n",
       "4481             12  \n",
       "4482              8  \n",
       "4483             14  \n",
       "4484             23  \n",
       "4485             21  \n",
       "\n",
       "[4486 rows x 16 columns]"
      ]
     },
     "execution_count": 89,
     "metadata": {},
     "output_type": "execute_result"
    }
   ],
   "source": [
    "accidents_attributes"
   ]
  },
  {
   "cell_type": "code",
   "execution_count": 90,
   "id": "06d78003",
   "metadata": {},
   "outputs": [
    {
     "name": "stdout",
     "output_type": "stream",
     "text": [
      "(4486, 16)\n",
      "[dtype('float64') dtype('bool') dtype('int64')]\n"
     ]
    }
   ],
   "source": [
    "print(accidents_attributes.shape)\n",
    "print(accidents_attributes.dtypes.unique())"
   ]
  },
  {
   "cell_type": "code",
   "execution_count": 91,
   "id": "0d956cd8",
   "metadata": {},
   "outputs": [],
   "source": [
    "from sklearn.model_selection import train_test_split\n",
    "from sklearn.linear_model import LinearRegression"
   ]
  },
  {
   "cell_type": "code",
   "execution_count": 92,
   "id": "9bd4d617",
   "metadata": {},
   "outputs": [],
   "source": [
    " accidents_attributes_train, accidents_attributes_test, Probability_train,Probability_test =train_test_split(\n",
    "     accidents_attributes, Probability, test_size = 0.1, stratify = Probability)"
   ]
  },
  {
   "cell_type": "code",
   "execution_count": 93,
   "id": "e9907aa2",
   "metadata": {},
   "outputs": [
    {
     "name": "stdout",
     "output_type": "stream",
     "text": [
      "(4037, 16) (449, 16)\n",
      "(4037,) (449,)\n"
     ]
    }
   ],
   "source": [
    "print(accidents_attributes_train.shape,accidents_attributes_test.shape)\n",
    "print(Probability_train.shape,Probability_test.shape)"
   ]
  },
  {
   "cell_type": "code",
   "execution_count": 94,
   "id": "7d93e610",
   "metadata": {},
   "outputs": [
    {
     "data": {
      "image/png": "[encoded data removed]",
      "text/plain": [
       "<Figure size 432x288 with 1 Axes>"
      ]
     },
     "metadata": {
      "needs_background": "light"
     },
     "output_type": "display_data"
    }
   ],
   "source": [
    "plot_hist(Probability_test, 4 , \"Accidents count validation\", \"Probability Train\")"
   ]
  },
  {
   "cell_type": "code",
   "execution_count": 95,
   "id": "b5315e04",
   "metadata": {},
   "outputs": [],
   "source": [
    "import pickle"
   ]
  },
  {
   "cell_type": "code",
   "execution_count": 96,
   "id": "4f80bde2",
   "metadata": {},
   "outputs": [],
   "source": [
    "#with open('fitted_model_2-0.pickle','wb') as modelFile:\n",
    "     #pickle.dump(linear_regression,modelFile)"
   ]
  },
  {
   "cell_type": "code",
   "execution_count": 97,
   "id": "74dede5d",
   "metadata": {},
   "outputs": [],
   "source": [
    "\n",
    "from sklearn.model_selection import train_test_split\n",
    "from sklearn.metrics import mean_squared_error as MSE\n",
    "import xgboost as xg"
   ]
  },
  {
   "cell_type": "code",
   "execution_count": 98,
   "id": "6a4dff12",
   "metadata": {},
   "outputs": [],
   "source": [
    "xgb_r = xg.XGBRegressor(objective ='reg:linear',\n",
    "                  n_estimators = 10, seed = 123)"
   ]
  },
  {
   "cell_type": "code",
   "execution_count": 99,
   "id": "9f368aec",
   "metadata": {},
   "outputs": [
    {
     "name": "stdout",
     "output_type": "stream",
     "text": [
      "[09:51:32] WARNING: C:/Users/Administrator/workspace/xgboost-win64_release_1.6.0/src/objective/regression_obj.cu:203: reg:linear is now deprecated in favor of reg:squarederror.\n"
     ]
    },
    {
     "data": {
      "text/plain": [
       "XGBRegressor(base_score=0.5, booster='gbtree', callbacks=None,\n",
       "             colsample_bylevel=1, colsample_bynode=1, colsample_bytree=1,\n",
       "             early_stopping_rounds=None, enable_categorical=False,\n",
       "             eval_metric=None, gamma=0, gpu_id=-1, grow_policy='depthwise',\n",
       "             importance_type=None, interaction_constraints='',\n",
       "             learning_rate=0.300000012, max_bin=256, max_cat_to_onehot=4,\n",
       "             max_delta_step=0, max_depth=6, max_leaves=0, min_child_weight=1,\n",
       "             missing=nan, monotone_constraints='()', n_estimators=10, n_jobs=0,\n",
       "             num_parallel_tree=1, objective='reg:linear', predictor='auto',\n",
       "             random_state=123, reg_alpha=0, ...)"
      ]
     },
     "execution_count": 99,
     "metadata": {},
     "output_type": "execute_result"
    }
   ],
   "source": [
    "xgb_r.fit(accidents_attributes_train, Probability_train)"
   ]
  },
  {
   "cell_type": "code",
   "execution_count": 100,
   "id": "ef0c4961",
   "metadata": {},
   "outputs": [
    {
     "data": {
      "text/plain": [
       "array([0.58797693, 0.63713056, 0.6324419 , 0.5471602 , 0.59694105,\n",
       "       0.59286135, 0.38227937, 0.56005424, 0.57966644, 0.49001548,\n",
       "       0.47757787, 0.6042136 , 0.57968986, 0.6681147 , 0.4012034 ,\n",
       "       0.37551078, 0.5410623 , 0.51633334, 0.65709054, 0.6086186 ,\n",
       "       0.54528826, 0.5961908 , 0.46201628, 0.6731714 , 0.67531896,\n",
       "       0.6803645 , 0.6153827 , 0.73203725, 0.7332907 , 0.62113345,\n",
       "       0.48293337, 0.5389246 , 0.5144587 , 0.5570888 , 0.66028345,\n",
       "       0.5177049 , 0.6562498 , 0.49130937, 0.7206262 , 0.60992485,\n",
       "       0.4921306 , 0.5738108 , 0.67710656, 0.56448716, 0.40484056,\n",
       "       0.6265434 , 0.6964158 , 0.5994955 , 0.62320805, 0.5045234 ,\n",
       "       0.49567315, 0.35948384, 0.50589377, 0.6349228 , 0.61372   ,\n",
       "       0.38002676, 0.48859474, 0.58241   , 0.345855  , 0.623555  ,\n",
       "       0.5410541 , 0.6534406 , 0.5657471 , 0.547404  , 0.5123309 ,\n",
       "       0.60119635, 0.63523275, 0.6311001 , 0.45521852, 0.60627925,\n",
       "       0.51696163, 0.61543137, 0.36480695, 0.47270283, 0.44902188,\n",
       "       0.58056694, 0.52578694, 0.48262677, 0.6188857 , 0.53679097,\n",
       "       0.57966644, 0.5111501 , 0.61243623, 0.5657179 , 0.5111501 ,\n",
       "       0.66841435, 0.35074311, 0.6527041 , 0.43191823, 0.42687494,\n",
       "       0.42046884, 0.48144078, 0.5333558 , 0.406849  , 0.54008615,\n",
       "       0.49512276, 0.6230387 , 0.5669708 , 0.52324396, 0.77611417,\n",
       "       0.48123   , 0.39384633, 0.5457862 , 0.61098766, 0.6426412 ,\n",
       "       0.5928227 , 0.59626883, 0.43793917, 0.5093882 , 0.5878743 ,\n",
       "       0.4807977 , 0.5366115 , 0.49429956, 0.55488837, 0.6165438 ,\n",
       "       0.4591679 , 0.55157447, 0.501977  , 0.628534  , 0.57299006,\n",
       "       0.4333665 , 0.5693331 , 0.5733154 , 0.40122324, 0.5991812 ,\n",
       "       0.6920885 , 0.4876125 , 0.6274463 , 0.5363626 , 0.6530097 ,\n",
       "       0.4262128 , 0.42460215, 0.59064186, 0.6217396 , 0.6695384 ,\n",
       "       0.6198096 , 0.6681147 , 0.54103726, 0.58601105, 0.39038303,\n",
       "       0.6985516 , 0.61372775, 0.5506308 , 0.5901629 , 0.6506252 ,\n",
       "       0.57016057, 0.6032434 , 0.40798104, 0.69696   , 0.58343923,\n",
       "       0.50137836, 0.60992485, 0.4276755 , 0.49453816, 0.57132584,\n",
       "       0.63159215, 0.54560894, 0.621645  , 0.61243623, 0.50335   ,\n",
       "       0.60674286, 0.54603565, 0.59905756, 0.5151627 , 0.6394929 ,\n",
       "       0.57966644, 0.54193336, 0.6493137 , 0.6468074 , 0.68451214,\n",
       "       0.6272804 , 0.604491  , 0.47443387, 0.5052892 , 0.69696   ,\n",
       "       0.6353921 , 0.56448716, 0.6646433 , 0.4892278 , 0.4814207 ,\n",
       "       0.60422015, 0.60992485, 0.61372   , 0.617049  , 0.43885592,\n",
       "       0.51428276, 0.6518491 , 0.40419745, 0.5954009 , 0.6163026 ,\n",
       "       0.57505876, 0.45337358, 0.429263  , 0.46074983, 0.6820236 ,\n",
       "       0.38390887, 0.58859986, 0.5505295 , 0.4342971 , 0.743381  ,\n",
       "       0.4761425 , 0.4735658 , 0.4067815 , 0.47978175, 0.39405555,\n",
       "       0.5393141 , 0.67834806, 0.58997494, 0.5069104 , 0.35789976,\n",
       "       0.5830121 , 0.6731714 , 0.5597355 , 0.6265434 , 0.70791674,\n",
       "       0.49103862, 0.5502402 , 0.38366145, 0.48057544, 0.6557952 ,\n",
       "       0.5376144 , 0.628534  , 0.614597  , 0.57966644, 0.47010544,\n",
       "       0.66516894, 0.5585139 , 0.4814207 , 0.52255565, 0.5928227 ,\n",
       "       0.48923907, 0.43245   , 0.6396089 , 0.35534477, 0.5898494 ,\n",
       "       0.47888884, 0.58601105, 0.58353215, 0.46994126, 0.61965907,\n",
       "       0.5928227 , 0.5355057 , 0.53377575, 0.54301023, 0.5213037 ,\n",
       "       0.4182661 , 0.64731634, 0.39169106, 0.5736455 , 0.61243623,\n",
       "       0.49818036, 0.67710656, 0.41396588, 0.5095933 , 0.6479006 ,\n",
       "       0.5599621 , 0.6188857 , 0.5891675 , 0.44677174, 0.6505563 ,\n",
       "       0.48542407, 0.6530097 , 0.5391016 , 0.48255163, 0.628534  ,\n",
       "       0.531835  , 0.57948256, 0.5961978 , 0.41949815, 0.5660854 ,\n",
       "       0.6332159 , 0.43984562, 0.50797224, 0.628534  , 0.37264717,\n",
       "       0.5598057 , 0.5669143 , 0.65976936, 0.49311948, 0.52255565,\n",
       "       0.64860487, 0.57613057, 0.43812072, 0.58285415, 0.47114703,\n",
       "       0.45498914, 0.6493137 , 0.707143  , 0.5848278 , 0.506266  ,\n",
       "       0.47103372, 0.51360524, 0.4928681 , 0.536678  , 0.532625  ,\n",
       "       0.61791545, 0.3937993 , 0.6065578 , 0.71816736, 0.40473837,\n",
       "       0.6111713 , 0.50847834, 0.6332159 , 0.69696   , 0.51907617,\n",
       "       0.65057516, 0.5913316 , 0.62176144, 0.4296746 , 0.62518084,\n",
       "       0.65928197, 0.49365574, 0.4398787 , 0.6998872 , 0.46704563,\n",
       "       0.44564372, 0.57843107, 0.68011445, 0.43822405, 0.32097593,\n",
       "       0.6206279 , 0.5125739 , 0.45781904, 0.5038003 , 0.3834824 ,\n",
       "       0.70791674, 0.5976222 , 0.62284064, 0.628534  , 0.3805328 ,\n",
       "       0.5954009 , 0.6379829 , 0.5871954 , 0.60521007, 0.6203855 ,\n",
       "       0.48168772, 0.61366516, 0.50167173, 0.46685708, 0.61842597,\n",
       "       0.5856316 , 0.5648524 , 0.5693727 , 0.5621336 , 0.6578273 ,\n",
       "       0.6274463 , 0.4606508 , 0.6194361 , 0.47987494, 0.65251553,\n",
       "       0.49213102, 0.60786355, 0.4683823 , 0.51439935, 0.61605996,\n",
       "       0.3886587 , 0.57613057, 0.58294076, 0.5637557 , 0.54996675,\n",
       "       0.58056694, 0.4731376 , 0.61289585, 0.5069101 , 0.5928227 ,\n",
       "       0.56448716, 0.5728298 , 0.40597597, 0.42315027, 0.499283  ,\n",
       "       0.63499   , 0.41231713, 0.628534  , 0.65976936, 0.59044456,\n",
       "       0.5839982 , 0.6530097 , 0.5742179 , 0.69275045, 0.4159728 ,\n",
       "       0.6530097 , 0.51696163, 0.58834964, 0.36141407, 0.6695341 ,\n",
       "       0.48386475, 0.56928295, 0.55962527, 0.6681147 , 0.5597355 ,\n",
       "       0.5669143 , 0.54707426, 0.39060688, 0.614597  , 0.41439477,\n",
       "       0.57869685, 0.5669143 , 0.66606265, 0.63246083, 0.67531896,\n",
       "       0.4321461 , 0.73834133, 0.69863254, 0.5988833 , 0.5481714 ,\n",
       "       0.6111069 , 0.41867384, 0.56267333, 0.57936215, 0.61372   ,\n",
       "       0.41680834, 0.743381  , 0.58654284, 0.40906328, 0.56856424,\n",
       "       0.58616334, 0.5649333 , 0.61777014, 0.63640934, 0.66401666,\n",
       "       0.53806263, 0.39242196, 0.65817916, 0.5669143 , 0.481494  ,\n",
       "       0.48589113, 0.56131655, 0.562252  , 0.6242826 , 0.62690556,\n",
       "       0.6395268 , 0.57613057, 0.5288488 , 0.6530097 , 0.46461713,\n",
       "       0.53031796, 0.5580568 , 0.36628926, 0.54650563, 0.43537933,\n",
       "       0.58866835, 0.628534  , 0.57992405, 0.61699605, 0.4450658 ,\n",
       "       0.32874158, 0.5976222 , 0.63159215, 0.628534  ], dtype=float32)"
      ]
     },
     "execution_count": 100,
     "metadata": {},
     "output_type": "execute_result"
    }
   ],
   "source": [
    "pred = xgb_r.predict(accidents_attributes_test)\n",
    "pred"
   ]
  },
  {
   "cell_type": "code",
   "execution_count": 101,
   "id": "facaff5f",
   "metadata": {},
   "outputs": [
    {
     "name": "stdout",
     "output_type": "stream",
     "text": [
      "RMSE :  0.170226\n"
     ]
    }
   ],
   "source": [
    "rmse = np.sqrt(MSE(Probability_test, pred))\n",
    "print(\"RMSE : % f\" %(rmse))"
   ]
  },
  {
   "cell_type": "code",
   "execution_count": 102,
   "id": "60e66062",
   "metadata": {},
   "outputs": [
    {
     "name": "stdout",
     "output_type": "stream",
     "text": [
      "0.3845544988803019\n",
      "0.21563573094961308\n"
     ]
    }
   ],
   "source": [
    "# check the accuracy on the training set\n",
    "print(xgb_r.score(accidents_attributes_train, Probability_train))\n",
    "print(xgb_r.score(accidents_attributes_test, Probability_test))"
   ]
  },
  {
   "cell_type": "code",
   "execution_count": 105,
   "id": "7d7b525d",
   "metadata": {},
   "outputs": [],
   "source": [
    "def predict(Distance,Temperature,Wind_Chill,Humidity,Pressure,Visibility,Wind_Speed,Precipitation,Bump,Crossing,Roundabout,Stop,Traffic_Signal,Accident_year,Accident_month,Accident_hour):\n",
    "    df=pd.read_csv('NEW BUILD transformed-2-0-csv.csv')\n",
    "    df=df.drop(['Probability'],axis=1)\n",
    "    num_arr=pd.DataFrame(np.array([[Distance,Temperature,Wind_Chill,Humidity,Pressure,Visibility,Wind_Speed,Precipitation,Bump,Crossing,Roundabout,Stop,Traffic_Signal,Accident_year,Accident_month,Accident_hour]]),columns=df.columns)\n",
    "    df_concatnd=pd.concat([df,num_arr],axis=0)\n",
    "    df_concatnd.reset_index(drop=True,inplace=True)\n",
    "    df_concatnd_last=df_concatnd.iloc[-1,:]\n",
    "    prediction=xgb_r.predict(np.array([df_concatnd_last]))\n",
    "    final_probabilty=np.round(prediction,5)*100\n",
    "    return final_probabilty\n",
    "    "
   ]
  },
  {
   "cell_type": "code",
   "execution_count": null,
   "id": "3bb43cd4",
   "metadata": {},
   "outputs": [],
   "source": []
  },
  {
   "cell_type": "code",
   "execution_count": 106,
   "id": "12aa9bdc",
   "metadata": {},
   "outputs": [
    {
     "data": {
      "text/plain": [
       "array([46.56], dtype=float32)"
      ]
     },
     "execution_count": 106,
     "metadata": {},
     "output_type": "execute_result"
    }
   ],
   "source": [
    "predict(0.224,95,95,46,29.89,10,14,0,False,False,False,False,False,2021,8,16)"
   ]
  },
  {
   "cell_type": "code",
   "execution_count": 107,
   "id": "6261e212",
   "metadata": {},
   "outputs": [],
   "source": [
    "with open('fitted_model_2-0-XGboost.pickle','wb') as modelFile:\n",
    "     pickle.dump(xgb_r,modelFile)"
   ]
  },
  {
   "cell_type": "code",
   "execution_count": null,
   "id": "7ef51915",
   "metadata": {},
   "outputs": [],
   "source": []
  }
 ],
 "metadata": {
  "kernelspec": {
   "display_name": "Python 3",
   "language": "python",
   "name": "python3"
  },
  "language_info": {
   "codemirror_mode": {
    "name": "ipython",
    "version": 3
   },
   "file_extension": ".py",
   "mimetype": "text/x-python",
   "name": "python",
   "nbconvert_exporter": "python",
   "pygments_lexer": "ipython3",
   "version": "3.8.8"
  }
 },
 "nbformat": 4,
 "nbformat_minor": 5
}
